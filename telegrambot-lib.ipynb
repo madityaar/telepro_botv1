{
 "cells": [
  {
   "cell_type": "code",
   "execution_count": 5,
   "metadata": {},
   "outputs": [],
   "source": [
    "from telegram.ext import Updater, CommandHandler\n",
    "import requests\n",
    "import re\n",
    "\n",
    "\n",
    "def get_url():    \n",
    "    contents = requests.get('https://random.dog/woof.json').json()    \n",
    "    url = contents['url']    \n",
    "    return url\n",
    "\n",
    "def bop(bot, update):    \n",
    "    url = get_url()    \n",
    "    chat_id = update.message.chat_id    \n",
    "    bot.send_photo(chat_id=chat_id, photo=url)\n",
    "    \n",
    "def get_url1(url):\n",
    "    response = requests.get(url)\n",
    "    content = response.content.decode(\"utf8\")\n",
    "    return content\n",
    "\n",
    "\n",
    "def get_json_from_url(url):\n",
    "    content = get_url1(url)\n",
    "    js = json.loads(content)\n",
    "    return js\n",
    "\n",
    "\n",
    "def get_updates():\n",
    "    url = URL + \"getUpdates\"\n",
    "    js = get_json_from_url(url)\n",
    "    return js\n",
    "\n",
    "\n",
    "def get_last_chat_id_and_text(updates):\n",
    "    num_updates = len(updates[\"result\"])\n",
    "    last_update = num_updates - 1\n",
    "    text = updates[\"result\"][last_update][\"message\"][\"text\"]\n",
    "    chat_id = updates[\"result\"][last_update][\"message\"][\"chat\"][\"id\"]\n",
    "    return (text, chat_id)\n",
    "\n",
    "\n",
    "def send_message(text, chat_id):\n",
    "    url = URL + \"sendMessage?text={}&chat_id={}\".format(text, chat_id)\n",
    "    get_url(url)\n",
    "    \n",
    "\n",
    "\n",
    "    \n",
    "def main():   \n",
    "    updater = Updater('865979318:AAGfil3jAjgM8Qzl9m_j6uvksmPC7U7RkM8')    \n",
    "    dp = updater.dispatcher \n",
    "    dp.add_handler(CommandHandler('bop',bop))    \n",
    "    updater.start_polling()    \n",
    "    updater.idle()\n",
    "if __name__ == '__main__':    main()"
   ]
  },
  {
   "cell_type": "code",
   "execution_count": null,
   "metadata": {},
   "outputs": [],
   "source": []
  }
 ],
 "metadata": {
  "kernelspec": {
   "display_name": "Python 3",
   "language": "python",
   "name": "python3"
  },
  "language_info": {
   "codemirror_mode": {
    "name": "ipython",
    "version": 3
   },
   "file_extension": ".py",
   "mimetype": "text/x-python",
   "name": "python",
   "nbconvert_exporter": "python",
   "pygments_lexer": "ipython3",
   "version": "3.7.1"
  }
 },
 "nbformat": 4,
 "nbformat_minor": 2
}
